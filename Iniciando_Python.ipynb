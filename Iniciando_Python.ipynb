{
  "nbformat": 4,
  "nbformat_minor": 0,
  "metadata": {
    "colab": {
      "name": "Iniciando_Python.ipynb",
      "provenance": [],
      "collapsed_sections": [],
      "toc_visible": true,
      "include_colab_link": true
    },
    "kernelspec": {
      "name": "python3",
      "display_name": "Python 3"
    },
    "language_info": {
      "name": "python"
    }
  },
  "cells": [
    {
      "cell_type": "markdown",
      "metadata": {
        "id": "view-in-github",
        "colab_type": "text"
      },
      "source": [
        "<a href=\"https://colab.research.google.com/github/oolaya1815/Taller_Machine_Learning/blob/main/Iniciando_Python.ipynb\" target=\"_parent\"><img src=\"https://colab.research.google.com/assets/colab-badge.svg\" alt=\"Open In Colab\"/></a>"
      ]
    },
    {
      "cell_type": "markdown",
      "metadata": {
        "id": "8I4k_rJ9108H"
      },
      "source": [
        "# Iniciando con Python"
      ]
    },
    {
      "cell_type": "markdown",
      "metadata": {
        "id": "k8BHt4Pw15RO"
      },
      "source": [
        "### Imprimir “Hola mundo” por pantalla"
      ]
    },
    {
      "cell_type": "code",
      "metadata": {
        "colab": {
          "base_uri": "https://localhost:8080/"
        },
        "id": "x49D4JHc2EGz",
        "outputId": "7d7fb76c-466e-4d7c-ce87-edc28df6ad04"
      },
      "source": [
        "#!/usr/bin/python3\n",
        " \n",
        "print(\"Hola mundo\")"
      ],
      "execution_count": null,
      "outputs": [
        {
          "output_type": "stream",
          "text": [
            "Hola mundo\n"
          ],
          "name": "stdout"
        }
      ]
    },
    {
      "cell_type": "markdown",
      "metadata": {
        "id": "Q5ua2Ht32KXb"
      },
      "source": [
        "### Crear dos variables numéricas, sumarlas y mostrar el resultado"
      ]
    },
    {
      "cell_type": "code",
      "metadata": {
        "colab": {
          "base_uri": "https://localhost:8080/"
        },
        "id": "d0Vfa-B-2Olh",
        "outputId": "cedad901-f654-431b-c141-1b35368c6c06"
      },
      "source": [
        "#!/usr/bin/python3\n",
        " \n",
        "variable1 = 5\n",
        "variable2 = 6\n",
        " \n",
        "suma = variable1 + variable2\n",
        " \n",
        "print(\"La suma de \",variable1,\"+\",variable2,\"=\",suma)"
      ],
      "execution_count": null,
      "outputs": [
        {
          "output_type": "stream",
          "text": [
            "La suma de  5 + 6 = 11\n"
          ],
          "name": "stdout"
        }
      ]
    },
    {
      "cell_type": "markdown",
      "metadata": {
        "id": "iDqFpZnH2YcI"
      },
      "source": [
        "### Mostrar el precio del IVA de un producto con un valor de 100 y su precio final"
      ]
    },
    {
      "cell_type": "code",
      "metadata": {
        "colab": {
          "base_uri": "https://localhost:8080/"
        },
        "id": "Fy3Pof8J2dUe",
        "outputId": "998e9464-b8bf-426b-b2fb-92fffba2d207"
      },
      "source": [
        "#!/usr/bin/python3\n",
        " \n",
        "IVA = 0.21\n",
        " \n",
        "precioProducto = 100\n",
        " \n",
        "precioIVA = precioProducto * IVA\n",
        " \n",
        "print(\"El precio del IVA es\", precioIVA, \"€\")\n",
        " \n",
        "print(\"El precio final es\", (precioIVA+precioProducto) ,\"€\")"
      ],
      "execution_count": null,
      "outputs": [
        {
          "output_type": "stream",
          "text": [
            "El precio del IVA es 21.0 €\n",
            "El precio final es 121.0 €\n"
          ],
          "name": "stdout"
        }
      ]
    },
    {
      "cell_type": "markdown",
      "metadata": {
        "id": "WO2fm9IX2ful"
      },
      "source": [
        "### De dos números, saber cual es el mayor"
      ]
    },
    {
      "cell_type": "code",
      "metadata": {
        "colab": {
          "base_uri": "https://localhost:8080/"
        },
        "id": "JglS7RXn2kO9",
        "outputId": "24d9180f-f108-425a-e0d0-02fedd493580"
      },
      "source": [
        "#!/usr/bin/python3\n",
        " \n",
        "a = 7\n",
        "b = 5\n",
        " \n",
        "if( a<b ):\n",
        "    print(\"A es menor que B\")\n",
        "else:\n",
        "    print(\"B es menor que A\")"
      ],
      "execution_count": null,
      "outputs": [
        {
          "output_type": "stream",
          "text": [
            "B es menor que A\n"
          ],
          "name": "stdout"
        }
      ]
    },
    {
      "cell_type": "markdown",
      "metadata": {
        "id": "atWHvDol2zDh"
      },
      "source": [
        "### Crea una variable numérica y si esta entre 0 y 10, mostrar un mensaje indicándolo"
      ]
    },
    {
      "cell_type": "code",
      "metadata": {
        "id": "2LpNtl-A20b4"
      },
      "source": [
        "#!/usr/bin/python3\n",
        " \n",
        "a = 5\n",
        " \n",
        "if(a>=1 and a<=10):\n",
        "    print(\"Esta entre 1 y 10\")\n",
        "else:\n",
        "    print(\"No esta en ese rango\")"
      ],
      "execution_count": null,
      "outputs": []
    },
    {
      "cell_type": "markdown",
      "metadata": {
        "id": "ClUH7SCI212I"
      },
      "source": [
        "###  Añadir al anterior ejercicio, que si esta entre 11 y 20, muestre otro mensaje diferente y si esta entre 21 y 30 otro mensaje"
      ]
    },
    {
      "cell_type": "code",
      "metadata": {
        "id": "xPzJJCHI24m5"
      },
      "source": [
        "#!/usr/bin/python\n",
        " \n",
        "a = 35\n",
        " \n",
        "if(a>=1 and a<=10):\n",
        "    print(\"Esta entre 1 y 10\")\n",
        "elif(a>=11 and a<=20):\n",
        "    print(\"Esta entre 11 y 20\")\n",
        "elif(a>=21 and a<=30):\n",
        "    print(\"Esta entre 21 y 30\")\n",
        "else:\n",
        "    print(\"No esta en ese rango\")"
      ],
      "execution_count": null,
      "outputs": []
    },
    {
      "cell_type": "markdown",
      "metadata": {
        "id": "xRkKUYak26cA"
      },
      "source": [
        "### Mostrar con un while los números del 1 al 100."
      ]
    },
    {
      "cell_type": "code",
      "metadata": {
        "id": "1ZrdYAZ1296x"
      },
      "source": [
        "#!/usr/bin/python3\n",
        " \n",
        "i = 1\n",
        " \n",
        "while( i<=100 ):\n",
        "    print(i)\n",
        "    i+=1\n",
        " \n",
        "print(\"Fin del bucle\")"
      ],
      "execution_count": null,
      "outputs": []
    },
    {
      "cell_type": "markdown",
      "metadata": {
        "id": "MxxUSnIj3Ayn"
      },
      "source": [
        "### Mostrar con un for los números del 1 al 100"
      ]
    },
    {
      "cell_type": "code",
      "metadata": {
        "id": "utjq_mAy3De6"
      },
      "source": [
        "#!/usr/bin/python3\n",
        " \n",
        "for i in range(1,101):\n",
        "    print(i)"
      ],
      "execution_count": null,
      "outputs": []
    },
    {
      "cell_type": "markdown",
      "metadata": {
        "id": "0ep88_Xkauuj"
      },
      "source": [
        "## Variables"
      ]
    },
    {
      "cell_type": "code",
      "metadata": {
        "colab": {
          "base_uri": "https://localhost:8080/"
        },
        "id": "E7BJ_RZ2azTU",
        "outputId": "ebf3bba9-0d36-45c8-cfc7-cbae258056ec"
      },
      "source": [
        "a = 10\n",
        "print(\"El valor de la variable a es:\",a)\n",
        "\n",
        "def numero(n):\n",
        "  a = 5\n",
        "  print(\"El nuevo valor de la variable a es:\",a)\n",
        "  resultado = n + a\n",
        "  return resultado\n",
        "\n",
        "print(f\"El resultado es: {numero(2)}\")\n",
        "print(f\"EL valor de a luego de ejecutar la función es: {a}\")"
      ],
      "execution_count": null,
      "outputs": [
        {
          "output_type": "stream",
          "text": [
            "El valor de la variable a es: 10\n",
            "El nuevo valor de la variable a es: 5\n",
            "El resultado es: 7\n",
            "EL valor de a luego de ejecutar la función es: 10\n"
          ],
          "name": "stdout"
        }
      ]
    },
    {
      "cell_type": "code",
      "metadata": {
        "colab": {
          "base_uri": "https://localhost:8080/"
        },
        "id": "Z9NCl8ynb8as",
        "outputId": "1e0d8187-2d8e-4aba-ac3f-a19eb63662c1"
      },
      "source": [
        "global a \n",
        "a = 10\n",
        "print(\"El valor de la variable a es:\",a)\n",
        "\n",
        "def numero(n):\n",
        "  global a\n",
        "  a = 5\n",
        "  print(\"El nuevo valor de la variable a es:\",a)\n",
        "  resultado = n + a\n",
        "  return resultado\n",
        "\n",
        "print(f\"El resultado es: {numero(2)}\")\n",
        "print(f\"EL valor de a luego de ejecutar la función es: {a}\")"
      ],
      "execution_count": null,
      "outputs": [
        {
          "output_type": "stream",
          "text": [
            "El valor de la variable a es: 10\n",
            "El nuevo valor de la variable a es: 5\n",
            "El resultado es: 7\n",
            "EL valor de a luego de ejecutar la función es: 5\n"
          ],
          "name": "stdout"
        }
      ]
    },
    {
      "cell_type": "markdown",
      "metadata": {
        "id": "U6W9J4a8d0Xi"
      },
      "source": [
        "## Test con Python"
      ]
    },
    {
      "cell_type": "code",
      "metadata": {
        "id": "Aq6zjIT8d3UZ"
      },
      "source": [
        "def sum(a,b):\n",
        "    for n in (a,b):\n",
        "        if not isinstance(n, int) and not isinstance(n, float):\n",
        "            raise TypeError\n",
        "    return a + b"
      ],
      "execution_count": null,
      "outputs": []
    },
    {
      "cell_type": "code",
      "metadata": {
        "colab": {
          "base_uri": "https://localhost:8080/"
        },
        "id": "-T1KzC8bd4P5",
        "outputId": "ddfb20a9-47ae-464b-f6b2-a6ecbe71977d"
      },
      "source": [
        "sum(5,0x24)"
      ],
      "execution_count": null,
      "outputs": [
        {
          "output_type": "execute_result",
          "data": {
            "text/plain": [
              "41"
            ]
          },
          "metadata": {
            "tags": []
          },
          "execution_count": 51
        }
      ]
    },
    {
      "cell_type": "code",
      "metadata": {
        "colab": {
          "base_uri": "https://localhost:8080/"
        },
        "id": "h4YDpiFQeEEI",
        "outputId": "b7c421f2-44c8-4863-d495-26ecd8baebeb"
      },
      "source": [
        "!python test_mymodule.py"
      ],
      "execution_count": null,
      "outputs": [
        {
          "output_type": "stream",
          "text": [
            "F\n",
            "======================================================================\n",
            "FAIL: test_sum (__main__.TestMymodule)\n",
            "----------------------------------------------------------------------\n",
            "Traceback (most recent call last):\n",
            "  File \"test_mymodule.py\", line 7, in test_sum\n",
            "    self.assertEqual(mymodule.sum(5,7),12)\n",
            "AssertionError: -2 != 12\n",
            "\n",
            "----------------------------------------------------------------------\n",
            "Ran 1 test in 0.000s\n",
            "\n",
            "FAILED (failures=1)\n"
          ],
          "name": "stdout"
        }
      ]
    },
    {
      "cell_type": "code",
      "metadata": {
        "colab": {
          "base_uri": "https://localhost:8080/"
        },
        "id": "Ryb_-mOij-t3",
        "outputId": "4b2d9a01-86b6-46da-ff11-1194a7dc81d7"
      },
      "source": [
        "!nvidia-smi "
      ],
      "execution_count": null,
      "outputs": [
        {
          "output_type": "stream",
          "text": [
            "Mon Mar 22 06:28:39 2021       \n",
            "+-----------------------------------------------------------------------------+\n",
            "| NVIDIA-SMI 460.56       Driver Version: 460.32.03    CUDA Version: 11.2     |\n",
            "|-------------------------------+----------------------+----------------------+\n",
            "| GPU  Name        Persistence-M| Bus-Id        Disp.A | Volatile Uncorr. ECC |\n",
            "| Fan  Temp  Perf  Pwr:Usage/Cap|         Memory-Usage | GPU-Util  Compute M. |\n",
            "|                               |                      |               MIG M. |\n",
            "|===============================+======================+======================|\n",
            "|   0  Tesla K80           Off  | 00000000:00:04.0 Off |                    0 |\n",
            "| N/A   53C    P8    31W / 149W |      0MiB / 11441MiB |      0%      Default |\n",
            "|                               |                      |                  N/A |\n",
            "+-------------------------------+----------------------+----------------------+\n",
            "                                                                               \n",
            "+-----------------------------------------------------------------------------+\n",
            "| Processes:                                                                  |\n",
            "|  GPU   GI   CI        PID   Type   Process name                  GPU Memory |\n",
            "|        ID   ID                                                   Usage      |\n",
            "|=============================================================================|\n",
            "|  No running processes found                                                 |\n",
            "+-----------------------------------------------------------------------------+\n"
          ],
          "name": "stdout"
        }
      ]
    }
  ]
}